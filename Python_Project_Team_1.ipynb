{
 "cells": [
  {
   "cell_type": "markdown",
   "id": "8154ddfb-7ced-4be5-b113-ca70bd98add4",
   "metadata": {},
   "source": [
    "## GitHub\n",
    "● Your notebook and ReadMe need to be stored and worked on in a GitHub repository.\n",
    "● One team member should create the Private repository and add the other team members as\n",
    "collaborators.\n",
    "● Ensure the repository is Private.\n",
    "● Add you facilitator as a collaborator\n",
    "● Add the link to your repository to this form. <- Once teams have been confirmed\n",
    "● Every team member needs to clone the repo and work from there. We will be accessing\n",
    "contributions (commits) to the repository from each member.\n",
    "● You will have to deal with merge conflicts 🙃\n",
    "● Your GitHub repo will need a ReadMe file."
   ]
  },
  {
   "cell_type": "markdown",
   "id": "08f8107b-0311-43eb-b84c-f9d8024b6f67",
   "metadata": {},
   "source": [
    "## Project Environment\n",
    "● You will need to include all the packages used in a requirements.txt file in your GitHub\r\n",
    "repository\r\n",
    "● In the ReadMe you need to add instructions on how to recreate the environment using\r\n",
    "Anacon\n",
    "● Exporting your conda environment:\r\n",
    "conda activate <env>\r\n",
    "conda install pip\r\n",
    "#get list of packages and pipe to txt file\r\n",
    "pip list --format=freeze > requirements.txtda."
   ]
  },
  {
   "cell_type": "markdown",
   "id": "71bde8c1-52e4-461c-a0ca-fb40fa010c2f",
   "metadata": {},
   "source": [
    "## The Notebook-The Report\n",
    "Should have clearly defined sections using Markdown"
   ]
  },
  {
   "cell_type": "markdown",
   "id": "27e2f333-83fc-4f6b-8cc5-fc69cb7caae5",
   "metadata": {},
   "source": [
    "## Project Overview\n",
    "Problem Statement"
   ]
  },
  {
   "cell_type": "markdown",
   "id": "235faacf-e7b1-4bbb-861c-7b382f5fb6fd",
   "metadata": {},
   "source": [
    "## Importing Packages\n",
    "● You will need to include all the packages used in a requirements.txt file in your GitHub repository ● In the ReadMe you need to add instructions on how to recreate the environment using Anacon ● Exporting your conda environment: conda activate conda install pip #get list of packages and pipe to txt file pip list --format=freeze > requirements.txtda."
   ]
  },
  {
   "cell_type": "markdown",
   "id": "9f4fa702-ae77-4b49-abdb-a9f71d896729",
   "metadata": {},
   "source": [
    "## Data Loading\n",
    "Ensure you detail why certain concepts were applied with data loading and cleaning"
   ]
  },
  {
   "cell_type": "markdown",
   "id": "7d1ad4d4-d0ef-4767-b042-83da1b98c3c7",
   "metadata": {},
   "source": [
    "## Data Cleaning\n",
    "Ensure you detail why certain concepts were applied with data loading and cleaning"
   ]
  },
  {
   "cell_type": "markdown",
   "id": "a6b0e76b-4edd-48e1-8a69-49e567a7a57b",
   "metadata": {},
   "source": [
    "## Exploratory Data Analysis (EDA)\n",
    "Effective EDA that conveys knowledge and insights that is easy to understand.\n",
    "EDA should \n",
    "also be annotate  an  explained Highlight insights given for each plot."
   ]
  },
  {
   "cell_type": "markdown",
   "id": "fb38d26a-f0c1-4096-b77e-d310d32ba460",
   "metadata": {},
   "source": [
    "## Conclusion and Insights\n",
    "Final conclusion and insights"
   ]
  },
  {
   "cell_type": "code",
   "execution_count": null,
   "id": "886826df-d0b9-41ed-8376-385413ed7dfb",
   "metadata": {},
   "outputs": [],
   "source": []
  }
 ],
 "metadata": {
  "kernelspec": {
   "display_name": "Python 3 (ipykernel)",
   "language": "python",
   "name": "python3"
  },
  "language_info": {
   "codemirror_mode": {
    "name": "ipython",
    "version": 3
   },
   "file_extension": ".py",
   "mimetype": "text/x-python",
   "name": "python",
   "nbconvert_exporter": "python",
   "pygments_lexer": "ipython3",
   "version": "3.12.4"
  }
 },
 "nbformat": 4,
 "nbformat_minor": 5
}
