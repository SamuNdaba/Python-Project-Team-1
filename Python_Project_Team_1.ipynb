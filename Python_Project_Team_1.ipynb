{
 "cells": [
  {
   "cell_type": "markdown",
   "id": "8154ddfb-7ced-4be5-b113-ca70bd98add4",
   "metadata": {},
   "source": [
    "## GitHub\n",
    "● Your notebook and ReadMe need to be stored and worked on in a GitHub repository.\n",
    "● One team member should create the Private repository and add the other team members as\n",
    "collaborators.\n",
    "● Ensure the repository is Private.\n",
    "● Add you facilitator as a collaborator\n",
    "● Add the link to your repository to this form. <- Once teams have been confirmed\n",
    "● Every team member needs to clone the repo and work from there. We will be accessing\n",
    "contributions (commits) to the repository from each member.\n",
    "● You will have to deal with merge conflicts 🙃\n",
    "● Your GitHub repo will need a ReadMe file."
   ]
  },
  {
   "cell_type": "markdown",
   "id": "08f8107b-0311-43eb-b84c-f9d8024b6f67",
   "metadata": {},
   "source": [
    "## Project Environment\n",
    "● You will need to include all the packages used in a requirements.txt file in your GitHub\r\n",
    "repository\r\n",
    "● In the ReadMe you need to add instructions on how to recreate the environment using\r\n",
    "Anacon\n",
    "● Exporting your conda environment:\r\n",
    "conda activate <env>\r\n",
    "conda install pip\r\n",
    "#get list of packages and pipe to txt file\r\n",
    "pip list --format=freeze > requirements.txtda."
   ]
  },
  {
   "cell_type": "markdown",
   "id": "71bde8c1-52e4-461c-a0ca-fb40fa010c2f",
   "metadata": {},
   "source": [
    "## The Notebook-The Report\n",
    "Should have clearly defined sections using Markdown"
   ]
  },
  {
   "cell_type": "markdown",
   "id": "27e2f333-83fc-4f6b-8cc5-fc69cb7caae5",
   "metadata": {},
   "source": [
    "## Project Overview\n",
    "Problem Statement"
   ]
  },
  {
   "cell_type": "markdown",
   "id": "235faacf-e7b1-4bbb-861c-7b382f5fb6fd",
   "metadata": {},
   "source": [
    "## Importing Packages\n",
    "● You will need to include all the packages used in a requirements.txt file in your GitHub repository ● In the ReadMe you need to add instructions on how to recreate the environment using Anacon ● Exporting your conda environment: conda activate conda install pip #get list of packages and pipe to txt file pip list --format=freeze > requirements.txtda."
   ]
  },
  {
   "cell_type": "markdown",
   "id": "9f4fa702-ae77-4b49-abdb-a9f71d896729",
   "metadata": {},
   "source": [
    "## Data Loading\n",
    "Ensure you detail why certain concepts were applied with data loading and cleaning"
   ]
  },
  {
   "cell_type": "markdown",
   "id": "7d1ad4d4-d0ef-4767-b042-83da1b98c3c7",
   "metadata": {},
   "source": [
    "## Data Cleaning\n",
    "Ensure you detail why certain concepts were applied with data loading and cleaning"
   ]
  },
  {
   "cell_type": "markdown",
   "id": "a6b0e76b-4edd-48e1-8a69-49e567a7a57b",
   "metadata": {},
   "source": [
    "## Exploratory Data Analysis (EDA)\n",
    "Effective EDA that conveys knowledge and insights that is easy to understand.\n",
    "EDA should \n",
    "also be annotate  an  explained Highlight insights given for each plot."
   ]
  },
  {
   "cell_type": "markdown",
   "id": "fb38d26a-f0c1-4096-b77e-d310d32ba460",
   "metadata": {},
   "source": [
    "## Conclusion and Insights\n",
    "Final conclusion and insights"
   ]
  },
  {
   "cell_type": "code",
   "execution_count": 2,
   "id": "886826df-d0b9-41ed-8376-385413ed7dfb",
   "metadata": {},
   "outputs": [],
   "source": [
    "import pandas as pd"
   ]
  },
  {
   "cell_type": "code",
   "execution_count": 4,
   "id": "540a5eff-ba3d-4c1e-aa99-c27aa207635f",
   "metadata": {},
   "outputs": [],
   "source": [
    "# Load the data\n",
    "file_path = \"prices.csv\"  # Use the correct file path\n",
    "data = pd.read_csv(\"C:/Users/madel/Downloads/prices.csv\")"
   ]
  },
  {
   "cell_type": "code",
   "execution_count": 6,
   "id": "1a514f5f-bcf0-4e27-9b46-64b960e9cd20",
   "metadata": {},
   "outputs": [
    {
     "name": "stdout",
     "output_type": "stream",
     "text": [
      "  Price Dates  Bhindi (Ladies finger)  Tomato  Onion  Potato  Brinjal  Garlic  \\\n",
      "0  01-01-2023                    35.0      18   22.0      20       30      50   \n",
      "1  02-01-2023                    35.0      16   22.0      20       30      55   \n",
      "2  03-01-2023                    35.0      16   21.0      20       30      55   \n",
      "3  04-01-2023                    30.0      16   21.0      22       25      55   \n",
      "4  08-01-2023                    35.0      16   20.0      21       25      55   \n",
      "\n",
      "   Peas  Methi  Green Chilli  Elephant Yam (Suran)  \n",
      "0    25      8          45.0                    25  \n",
      "1    25      7          40.0                    25  \n",
      "2    25      7          40.0                    25  \n",
      "3    25      7          40.0                    25  \n",
      "4    22      6          35.0                    25  \n"
     ]
    }
   ],
   "source": [
    "# Check the first few rows of the dataset\n",
    "print(data.head())"
   ]
  },
  {
   "cell_type": "code",
   "execution_count": 8,
   "id": "7f6ad98b-87c0-4cd2-8fb7-f363c42dee0d",
   "metadata": {},
   "outputs": [
    {
     "name": "stdout",
     "output_type": "stream",
     "text": [
      "Price Dates               0\n",
      "Bhindi (Ladies finger)    0\n",
      "Tomato                    0\n",
      "Onion                     0\n",
      "Potato                    0\n",
      "Brinjal                   0\n",
      "Garlic                    0\n",
      "Peas                      0\n",
      "Methi                     0\n",
      "Green Chilli              0\n",
      "Elephant Yam (Suran)      0\n",
      "dtype: int64\n"
     ]
    }
   ],
   "source": [
    "print(data.isnull().sum())  # Count missing values in each column"
   ]
  },
  {
   "cell_type": "code",
   "execution_count": 10,
   "id": "ebf4a84e-cd41-4efb-8a41-a3141b6ba41f",
   "metadata": {},
   "outputs": [
    {
     "name": "stdout",
     "output_type": "stream",
     "text": [
      "0\n"
     ]
    }
   ],
   "source": [
    "# Check for duplicates\n",
    "print(data.duplicated().sum())"
   ]
  },
  {
   "cell_type": "code",
   "execution_count": 12,
   "id": "ac244f8e-4ce3-4fa8-97bd-4b3bacdb5a48",
   "metadata": {},
   "outputs": [
    {
     "name": "stdout",
     "output_type": "stream",
     "text": [
      "  Price Dates  Bhindi (Ladies finger)  Tomato  Onion  Potato  Brinjal  Garlic  \\\n",
      "0  01-01-2023                    35.0    18.0   22.0    20.0     30.0    50.0   \n",
      "1  02-01-2023                    35.0    16.0   22.0    20.0     30.0    55.0   \n",
      "2  03-01-2023                    35.0    16.0   21.0    20.0     30.0    55.0   \n",
      "3  04-01-2023                    30.0    16.0   21.0    22.0     25.0    55.0   \n",
      "4  08-01-2023                    35.0    16.0   20.0    21.0     25.0    55.0   \n",
      "\n",
      "   Peas  Methi  Green Chilli  Elephant Yam (Suran)  \n",
      "0  25.0    8.0          45.0                  25.0  \n",
      "1  25.0    7.0          40.0                  25.0  \n",
      "2  25.0    7.0          40.0                  25.0  \n",
      "3  25.0    7.0          40.0                  25.0  \n",
      "4  22.0    6.0          35.0                  25.0  \n"
     ]
    },
    {
     "name": "stderr",
     "output_type": "stream",
     "text": [
      "C:\\Users\\madel\\AppData\\Local\\Temp\\ipykernel_39540\\3841202317.py:3: FutureWarning: DataFrame.applymap has been deprecated. Use DataFrame.map instead.\n",
      "  data[numeric_columns] = data[numeric_columns].applymap(lambda x: round(float(x), 2))\n"
     ]
    }
   ],
   "source": [
    "# Ensure all numerical columns have consistent decimal points\n",
    "numeric_columns = data.columns[1:]  # Exclude 'Price Dates'\n",
    "data[numeric_columns] = data[numeric_columns].applymap(lambda x: round(float(x), 2))\n",
    "\n",
    "# Preview the updated dataset\n",
    "print(data.head())"
   ]
  },
  {
   "cell_type": "code",
   "execution_count": 14,
   "id": "62a2af8f-513c-4046-90fe-9459268b36ac",
   "metadata": {},
   "outputs": [
    {
     "name": "stdout",
     "output_type": "stream",
     "text": [
      "0   2023-01-01\n",
      "1   2023-01-02\n",
      "2   2023-01-03\n",
      "3   2023-01-04\n",
      "4   2023-01-08\n",
      "Name: Price Dates, dtype: datetime64[ns]\n"
     ]
    }
   ],
   "source": [
    "# Convert the 'Price Dates' column to a consistent datetime format\n",
    "data['Price Dates'] = pd.to_datetime(data['Price Dates'], dayfirst=True)\n",
    "\n",
    "# Verify the updated 'Price Dates' format\n",
    "print(data['Price Dates'].head())"
   ]
  },
  {
   "cell_type": "code",
   "execution_count": null,
   "id": "d154ae2e-56f0-4c46-81b5-bb73dfa2494d",
   "metadata": {},
   "outputs": [],
   "source": []
  }
 ],
 "metadata": {
  "kernelspec": {
   "display_name": "Python [conda env:base] *",
   "language": "python",
   "name": "conda-base-py"
  },
  "language_info": {
   "codemirror_mode": {
    "name": "ipython",
    "version": 3
   },
   "file_extension": ".py",
   "mimetype": "text/x-python",
   "name": "python",
   "nbconvert_exporter": "python",
   "pygments_lexer": "ipython3",
   "version": "3.12.7"
  }
 },
 "nbformat": 4,
 "nbformat_minor": 5
}
